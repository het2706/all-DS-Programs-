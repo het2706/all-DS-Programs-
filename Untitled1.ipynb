{
 "cells": [
  {
   "cell_type": "markdown",
   "id": "80158bf5",
   "metadata": {},
   "source": [
    "## LAB-1 "
   ]
  },
  {
   "cell_type": "markdown",
   "id": "3150aa3c",
   "metadata": {},
   "source": [
    "### Basic programs to understand the working of python."
   ]
  },
  {
   "cell_type": "markdown",
   "id": "c4396abd",
   "metadata": {},
   "source": [
    "### 1. Write a program to print “Hello World”."
   ]
  },
  {
   "cell_type": "code",
   "execution_count": 1,
   "id": "0d2acf67",
   "metadata": {},
   "outputs": [
    {
     "name": "stdout",
     "output_type": "stream",
     "text": [
      "Hello World\n"
     ]
    }
   ],
   "source": [
    "print(\"Hello World\")"
   ]
  },
  {
   "cell_type": "markdown",
   "id": "b8f91199",
   "metadata": {},
   "source": [
    "### 2. Write a program to print your address i) using single print ii) using multiple print."
   ]
  },
  {
   "cell_type": "code",
   "execution_count": 8,
   "id": "90d8008f",
   "metadata": {},
   "outputs": [
    {
     "name": "stdout",
     "output_type": "stream",
     "text": [
      "jivraj park\n",
      "city clasic\n",
      "c-wing\n",
      "mavdi\n",
      "rajkot\n"
     ]
    }
   ],
   "source": [
    "print(\"jivraj park\")\n",
    "print(\"city clasic\")\n",
    "print(\"c-wing\")\n",
    "print(\"mavdi\")\n",
    "print(\"rajkot\")"
   ]
  },
  {
   "cell_type": "code",
   "execution_count": 5,
   "id": "ea97cdb2",
   "metadata": {},
   "outputs": [
    {
     "name": "stdout",
     "output_type": "stream",
     "text": [
      "jivarj park \n",
      "city clasic \n",
      "c-wing\n",
      "mavdi\n",
      "rajkot\n"
     ]
    }
   ],
   "source": [
    "print(\"jivarj park \\ncity clasic \\nc-wing\\nmavdi\\nrajkot\")"
   ]
  },
  {
   "cell_type": "markdown",
   "id": "2ef3fd7e",
   "metadata": {},
   "source": [
    "### 3. Write a program to print the addition of 2 numbers (without input function)."
   ]
  },
  {
   "cell_type": "code",
   "execution_count": 10,
   "id": "e8003c27",
   "metadata": {},
   "outputs": [
    {
     "name": "stdout",
     "output_type": "stream",
     "text": [
      "addition of a,b 30\n"
     ]
    }
   ],
   "source": [
    "a=10\n",
    "b=20\n",
    "print(\"addition of a,b\",a+b)"
   ]
  },
  {
   "cell_type": "markdown",
   "id": "26b52a35",
   "metadata": {},
   "source": [
    "### 4. Write a program to calculate and print the average of 2 numbers"
   ]
  },
  {
   "cell_type": "code",
   "execution_count": 13,
   "id": "b56d981c",
   "metadata": {},
   "outputs": [
    {
     "name": "stdout",
     "output_type": "stream",
     "text": [
      "avg of a,b= 15.0\n"
     ]
    }
   ],
   "source": [
    "a=10\n",
    "b=20\n",
    "print(\"avg of a,b=\",((a+b)/2))"
   ]
  },
  {
   "cell_type": "markdown",
   "id": "070ca041",
   "metadata": {},
   "source": [
    "### Write a program to add two numbers entered by the user."
   ]
  },
  {
   "cell_type": "code",
   "execution_count": 16,
   "id": "afa854d2",
   "metadata": {},
   "outputs": [
    {
     "name": "stdout",
     "output_type": "stream",
     "text": [
      "Enter A:10\n",
      "Enter B:20\n",
      "Addition= 30\n"
     ]
    }
   ],
   "source": [
    "a=int(input(\"Enter A:\"))\n",
    "b=int(input(\"Enter B:\"))\n",
    "print(f\"Addition=\",(a+b))"
   ]
  },
  {
   "cell_type": "markdown",
   "id": "f0c283ff",
   "metadata": {},
   "source": [
    "### 6. Write a program to calculate the area of a circle."
   ]
  },
  {
   "cell_type": "code",
   "execution_count": 17,
   "id": "16c49eef",
   "metadata": {},
   "outputs": [
    {
     "name": "stdout",
     "output_type": "stream",
     "text": [
      "Enter r10\n",
      "area is 314.0\n"
     ]
    }
   ],
   "source": [
    "r=float(input(\"Enter r\"))\n",
    "print(f\"area is\",3.14*r*r)"
   ]
  },
  {
   "cell_type": "markdown",
   "id": "2bd59812",
   "metadata": {},
   "source": [
    "### 7. Write a program to take 4 subjects' marks from the user and calculate total marks & Percentage."
   ]
  },
  {
   "cell_type": "code",
   "execution_count": 19,
   "id": "3c5b8052",
   "metadata": {},
   "outputs": [
    {
     "name": "stdout",
     "output_type": "stream",
     "text": [
      "Enter DS Subject Marks70\n",
      "Enter JavaScript Subject Marks80\n",
      "Enter Python Subject Marks90\n",
      "Enter DBMS Subject Marks70\n",
      "Total Marks Is: 310\n",
      "percentage is:  77.5\n"
     ]
    }
   ],
   "source": [
    "a=int(input(\"Enter DS Subject Marks\"))\n",
    "b=int(input(\"Enter JavaScript Subject Marks\"))\n",
    "c=int(input(\"Enter Python Subject Marks\"))\n",
    "d=int(input(\"Enter DBMS Subject Marks\"))\n",
    "print(\"Total Marks Is:\",a+b+c+d)\n",
    "print(\"percentage is: \",((a+b+c+d)/4))"
   ]
  },
  {
   "cell_type": "markdown",
   "id": "19810228",
   "metadata": {},
   "source": [
    "### 8. Write a program to calculate the area of a triangle (hint: a = h*b*0.5)"
   ]
  },
  {
   "cell_type": "code",
   "execution_count": 20,
   "id": "08bc4844",
   "metadata": {},
   "outputs": [
    {
     "name": "stdout",
     "output_type": "stream",
     "text": [
      "Enter Value Of H:10\n",
      "Enter Value Of B:20\n",
      "Area of triangle= 100.0\n"
     ]
    }
   ],
   "source": [
    "h=float(input(\"Enter Value Of H:\"))\n",
    "b=float(input(\"Enter Value Of B:\"))\n",
    "print(\"Area of triangle=\",(0.5*h*b))"
   ]
  },
  {
   "cell_type": "markdown",
   "id": "5c802fc6",
   "metadata": {},
   "source": [
    "### 9. Write a program to calculate the area of a rectangle."
   ]
  },
  {
   "cell_type": "code",
   "execution_count": 21,
   "id": "d4c0290a",
   "metadata": {},
   "outputs": [
    {
     "name": "stdout",
     "output_type": "stream",
     "text": [
      "Enter Value of l10\n",
      "Enter Value of b20\n",
      "Value of rectangle is: 200\n"
     ]
    }
   ],
   "source": [
    "l=int(input(\"Enter Value of l\"))\n",
    "b=int(input(\"Enter Value of b\"))\n",
    "print(\"Value of rectangle is:\",l*b)"
   ]
  },
  {
   "cell_type": "markdown",
   "id": "160ec0a8",
   "metadata": {},
   "source": [
    "### 10. Write a program to calculate simple interest."
   ]
  },
  {
   "cell_type": "code",
   "execution_count": 22,
   "id": "ea10c8f1",
   "metadata": {},
   "outputs": [
    {
     "name": "stdout",
     "output_type": "stream",
     "text": [
      "Enter Value Of P:10\n",
      "Enter Value Of R:20\n",
      "Enter Value Of N:30\n",
      "Simapl Interest Is: 60.0\n"
     ]
    }
   ],
   "source": [
    "p=int(input(\"Enter Value Of P:\"))\n",
    "r=int(input(\"Enter Value Of R:\"))\n",
    "n=int(input(\"Enter Value Of N:\"))\n",
    "print(\"Simapl Interest Is:\",((p*r*n)/100))"
   ]
  },
  {
   "cell_type": "markdown",
   "id": "3ac83f46",
   "metadata": {},
   "source": [
    "### 11. Write a program to print a multiplication table of a given number."
   ]
  },
  {
   "cell_type": "code",
   "execution_count": 29,
   "id": "85102a0d",
   "metadata": {},
   "outputs": [
    {
     "name": "stdout",
     "output_type": "stream",
     "text": [
      "Enter a500\n",
      "500*1=500\n",
      "500*2=1000\n",
      "500*3=1500\n",
      "500*4=2000\n",
      "500*5=2500\n",
      "500*6=3000\n",
      "500*7=3500\n",
      "500*8=4000\n",
      "500*9=4500\n",
      "500*10=5000\n"
     ]
    }
   ],
   "source": [
    "a=int(input(\"Enter a\"))\n",
    "for i in range(1,11):\n",
    "    sum=a*i\n",
    "    print(f\"{a}*{i}={sum}\")"
   ]
  },
  {
   "cell_type": "markdown",
   "id": "eeb5ec62",
   "metadata": {},
   "source": [
    "### 12. Write a program to convert Celsius to Fahrenheit and vice versa.(Hint- F ((9*C/5)+32)"
   ]
  },
  {
   "cell_type": "code",
   "execution_count": 26,
   "id": "bcabfa8a",
   "metadata": {},
   "outputs": [
    {
     "name": "stdout",
     "output_type": "stream",
     "text": [
      "Enter Value C10\n",
      "Answer Is: 50.0\n",
      "Enter Value F10\n",
      "Answer Is: -12.222222222222223\n"
     ]
    }
   ],
   "source": [
    "c=float(input(\"Enter Value C\"))\n",
    "print(\"Answer Is:\",((9*c/5)+32))\n",
    "f=float(input(\"Enter Value F\"))\n",
    "print(\"Answer Is:\",((f-32)*(5/9)))"
   ]
  },
  {
   "cell_type": "code",
   "execution_count": null,
   "id": "661a35a8",
   "metadata": {},
   "outputs": [],
   "source": []
  }
 ],
 "metadata": {
  "kernelspec": {
   "display_name": "Python 3 (ipykernel)",
   "language": "python",
   "name": "python3"
  },
  "language_info": {
   "codemirror_mode": {
    "name": "ipython",
    "version": 3
   },
   "file_extension": ".py",
   "mimetype": "text/x-python",
   "name": "python",
   "nbconvert_exporter": "python",
   "pygments_lexer": "ipython3",
   "version": "3.10.9"
  }
 },
 "nbformat": 4,
 "nbformat_minor": 5
}
