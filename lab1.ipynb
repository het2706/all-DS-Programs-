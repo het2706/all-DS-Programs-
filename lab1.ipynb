{
 "cells": [
  {
   "cell_type": "markdown",
   "id": "6aa73ae3",
   "metadata": {},
   "source": [
    "## LAB-1 "
   ]
  },
  {
   "cell_type": "markdown",
   "id": "8bb6d60b",
   "metadata": {},
   "source": [
    "### Basic programs to understand the working of python."
   ]
  },
  {
   "cell_type": "markdown",
   "id": "626ddf8a",
   "metadata": {},
   "source": [
    "### 1. Write a program to print “Hello World”."
   ]
  },
  {
   "cell_type": "code",
   "execution_count": 1,
   "id": "3b46ddef",
   "metadata": {},
   "outputs": [
    {
     "name": "stdout",
     "output_type": "stream",
     "text": [
      "Hello World\n"
     ]
    }
   ],
   "source": [
    "print(\"Hello World\")"
   ]
  },
  {
   "cell_type": "markdown",
   "id": "7d00822a",
   "metadata": {},
   "source": [
    "### 2. Write a program to print your address i) using single print ii) using multiple print."
   ]
  },
  {
   "cell_type": "code",
   "execution_count": 8,
   "id": "e973bd4a",
   "metadata": {},
   "outputs": [
    {
     "name": "stdout",
     "output_type": "stream",
     "text": [
      "jivraj park\n",
      "city clasic\n",
      "c-wing\n",
      "mavdi\n",
      "rajkot\n"
     ]
    }
   ],
   "source": [
    "print(\"jivraj park\")\n",
    "print(\"city clasic\")\n",
    "print(\"c-wing\")\n",
    "print(\"mavdi\")\n",
    "print(\"rajkot\")"
   ]
  },
  {
   "cell_type": "code",
   "execution_count": 5,
   "id": "c6603fb9",
   "metadata": {},
   "outputs": [
    {
     "name": "stdout",
     "output_type": "stream",
     "text": [
      "jivarj park \n",
      "city clasic \n",
      "c-wing\n",
      "mavdi\n",
      "rajkot\n"
     ]
    }
   ],
   "source": [
    "print(\"jivarj park \\ncity clasic \\nc-wing\\nmavdi\\nrajkot\")"
   ]
  },
  {
   "cell_type": "markdown",
   "id": "accf992b",
   "metadata": {},
   "source": [
    "### 3. Write a program to print the addition of 2 numbers (without input function)."
   ]
  },
  {
   "cell_type": "code",
   "execution_count": 10,
   "id": "a4dc2758",
   "metadata": {},
   "outputs": [
    {
     "name": "stdout",
     "output_type": "stream",
     "text": [
      "addition of a,b 30\n"
     ]
    }
   ],
   "source": [
    "a=10\n",
    "b=20\n",
    "print(\"addition of a,b\",a+b)"
   ]
  },
  {
   "cell_type": "markdown",
   "id": "65674c53",
   "metadata": {},
   "source": [
    "### 4. Write a program to calculate and print the average of 2 numbers"
   ]
  },
  {
   "cell_type": "code",
   "execution_count": 13,
   "id": "7efe815e",
   "metadata": {},
   "outputs": [
    {
     "name": "stdout",
     "output_type": "stream",
     "text": [
      "avg of a,b= 15.0\n"
     ]
    }
   ],
   "source": [
    "a=10\n",
    "b=20\n",
    "print(\"avg of a,b=\",((a+b)/2))"
   ]
  },
  {
   "cell_type": "markdown",
   "id": "fa6dd3ba",
   "metadata": {},
   "source": [
    "### Write a program to add two numbers entered by the user."
   ]
  },
  {
   "cell_type": "code",
   "execution_count": 16,
   "id": "3c777d8e",
   "metadata": {},
   "outputs": [
    {
     "name": "stdout",
     "output_type": "stream",
     "text": [
      "Enter A:10\n",
      "Enter B:20\n",
      "Addition= 30\n"
     ]
    }
   ],
   "source": [
    "a=int(input(\"Enter A:\"))\n",
    "b=int(input(\"Enter B:\"))\n",
    "print(f\"Addition=\",(a+b))"
   ]
  },
  {
   "cell_type": "markdown",
   "id": "887682c0",
   "metadata": {},
   "source": [
    "### 6. Write a program to calculate the area of a circle."
   ]
  },
  {
   "cell_type": "code",
   "execution_count": 17,
   "id": "50e86be1",
   "metadata": {},
   "outputs": [
    {
     "name": "stdout",
     "output_type": "stream",
     "text": [
      "Enter r10\n",
      "area is 314.0\n"
     ]
    }
   ],
   "source": [
    "r=float(input(\"Enter r\"))\n",
    "print(f\"area is\",3.14*r*r)"
   ]
  },
  {
   "cell_type": "markdown",
   "id": "ad4ad405",
   "metadata": {},
   "source": [
    "### 7. Write a program to take 4 subjects' marks from the user and calculate total marks & Percentage."
   ]
  },
  {
   "cell_type": "code",
   "execution_count": 19,
   "id": "f85476b6",
   "metadata": {},
   "outputs": [
    {
     "name": "stdout",
     "output_type": "stream",
     "text": [
      "Enter DS Subject Marks70\n",
      "Enter JavaScript Subject Marks80\n",
      "Enter Python Subject Marks90\n",
      "Enter DBMS Subject Marks70\n",
      "Total Marks Is: 310\n",
      "percentage is:  77.5\n"
     ]
    }
   ],
   "source": [
    "a=int(input(\"Enter DS Subject Marks\"))\n",
    "b=int(input(\"Enter JavaScript Subject Marks\"))\n",
    "c=int(input(\"Enter Python Subject Marks\"))\n",
    "d=int(input(\"Enter DBMS Subject Marks\"))\n",
    "print(\"Total Marks Is:\",a+b+c+d)\n",
    "print(\"percentage is: \",((a+b+c+d)/4))"
   ]
  },
  {
   "cell_type": "markdown",
   "id": "5a0a8bed",
   "metadata": {},
   "source": [
    "### 8. Write a program to calculate the area of a triangle (hint: a = h*b*0.5)"
   ]
  },
  {
   "cell_type": "code",
   "execution_count": 20,
   "id": "020a4b7b",
   "metadata": {},
   "outputs": [
    {
     "name": "stdout",
     "output_type": "stream",
     "text": [
      "Enter Value Of H:10\n",
      "Enter Value Of B:20\n",
      "Area of triangle= 100.0\n"
     ]
    }
   ],
   "source": [
    "h=float(input(\"Enter Value Of H:\"))\n",
    "b=float(input(\"Enter Value Of B:\"))\n",
    "print(\"Area of triangle=\",(0.5*h*b))"
   ]
  },
  {
   "cell_type": "markdown",
   "id": "d25b0bfc",
   "metadata": {},
   "source": [
    "### 9. Write a program to calculate the area of a rectangle."
   ]
  },
  {
   "cell_type": "code",
   "execution_count": 21,
   "id": "05d26055",
   "metadata": {},
   "outputs": [
    {
     "name": "stdout",
     "output_type": "stream",
     "text": [
      "Enter Value of l10\n",
      "Enter Value of b20\n",
      "Value of rectangle is: 200\n"
     ]
    }
   ],
   "source": [
    "l=int(input(\"Enter Value of l\"))\n",
    "b=int(input(\"Enter Value of b\"))\n",
    "print(\"Value of rectangle is:\",l*b)"
   ]
  },
  {
   "cell_type": "markdown",
   "id": "564c8d61",
   "metadata": {},
   "source": [
    "### 10. Write a program to calculate simple interest."
   ]
  },
  {
   "cell_type": "code",
   "execution_count": 22,
   "id": "315b7ce4",
   "metadata": {},
   "outputs": [
    {
     "name": "stdout",
     "output_type": "stream",
     "text": [
      "Enter Value Of P:10\n",
      "Enter Value Of R:20\n",
      "Enter Value Of N:30\n",
      "Simapl Interest Is: 60.0\n"
     ]
    }
   ],
   "source": [
    "p=int(input(\"Enter Value Of P:\"))\n",
    "r=int(input(\"Enter Value Of R:\"))\n",
    "n=int(input(\"Enter Value Of N:\"))\n",
    "print(\"Simapl Interest Is:\",((p*r*n)/100))"
   ]
  },
  {
   "cell_type": "markdown",
   "id": "b7ed2ae1",
   "metadata": {},
   "source": [
    "### 11. Write a program to print a multiplication table of a given number."
   ]
  },
  {
   "cell_type": "code",
   "execution_count": 29,
   "id": "e27246c5",
   "metadata": {},
   "outputs": [
    {
     "name": "stdout",
     "output_type": "stream",
     "text": [
      "Enter a500\n",
      "500*1=500\n",
      "500*2=1000\n",
      "500*3=1500\n",
      "500*4=2000\n",
      "500*5=2500\n",
      "500*6=3000\n",
      "500*7=3500\n",
      "500*8=4000\n",
      "500*9=4500\n",
      "500*10=5000\n"
     ]
    }
   ],
   "source": [
    "a=int(input(\"Enter a\"))\n",
    "for i in range(1,11):\n",
    "    sum=a*i\n",
    "    print(f\"{a}*{i}={sum}\")"
   ]
  },
  {
   "cell_type": "markdown",
   "id": "ebc0cb65",
   "metadata": {},
   "source": [
    "### 12. Write a program to convert Celsius to Fahrenheit and vice versa.(Hint- F ((9*C/5)+32)"
   ]
  },
  {
   "cell_type": "code",
   "execution_count": 26,
   "id": "d3d3b952",
   "metadata": {},
   "outputs": [
    {
     "name": "stdout",
     "output_type": "stream",
     "text": [
      "Enter Value C10\n",
      "Answer Is: 50.0\n",
      "Enter Value F10\n",
      "Answer Is: -12.222222222222223\n"
     ]
    }
   ],
   "source": [
    "c=float(input(\"Enter Value C\"))\n",
    "print(\"Answer Is:\",((9*c/5)+32))\n",
    "f=float(input(\"Enter Value F\"))\n",
    "print(\"Answer Is:\",((f-32)*(5/9)))"
   ]
  },
  {
   "cell_type": "code",
   "execution_count": null,
   "id": "de5d0470",
   "metadata": {},
   "outputs": [],
   "source": []
  }
 ],
 "metadata": {
  "kernelspec": {
   "display_name": "Python 3 (ipykernel)",
   "language": "python",
   "name": "python3"
  },
  "language_info": {
   "codemirror_mode": {
    "name": "ipython",
    "version": 3
   },
   "file_extension": ".py",
   "mimetype": "text/x-python",
   "name": "python",
   "nbconvert_exporter": "python",
   "pygments_lexer": "ipython3",
   "version": "3.10.9"
  }
 },
 "nbformat": 4,
 "nbformat_minor": 5
}
