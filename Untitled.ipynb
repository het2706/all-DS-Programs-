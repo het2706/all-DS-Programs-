{
 "cells": [
  {
   "cell_type": "code",
   "execution_count": 1,
   "id": "4d6ff8ed",
   "metadata": {},
   "outputs": [
    {
     "name": "stdout",
     "output_type": "stream",
     "text": [
      "hello World\n"
     ]
    }
   ],
   "source": [
    "print(\"hello World\")"
   ]
  },
  {
   "cell_type": "code",
   "execution_count": 2,
   "id": "75ae5eff",
   "metadata": {},
   "outputs": [
    {
     "name": "stdout",
     "output_type": "stream",
     "text": [
      "jivraj park \n",
      " city clasic \n",
      " c-wing \n",
      " mavdi \n",
      " rajkot\n"
     ]
    }
   ],
   "source": [
    "print(\"jivraj park \\n city clasic \\n c-wing \\n mavdi \\n rajkot\")"
   ]
  },
  {
   "cell_type": "code",
   "execution_count": null,
   "id": "e772519d",
   "metadata": {},
   "outputs": [],
   "source": [
    "print(\"jivraj park\")"
   ]
  }
 ],
 "metadata": {
  "kernelspec": {
   "display_name": "Python 3 (ipykernel)",
   "language": "python",
   "name": "python3"
  },
  "language_info": {
   "codemirror_mode": {
    "name": "ipython",
    "version": 3
   },
   "file_extension": ".py",
   "mimetype": "text/x-python",
   "name": "python",
   "nbconvert_exporter": "python",
   "pygments_lexer": "ipython3",
   "version": "3.10.9"
  }
 },
 "nbformat": 4,
 "nbformat_minor": 5
}
